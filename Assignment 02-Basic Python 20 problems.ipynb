{
 "cells": [
  {
   "cell_type": "markdown",
   "id": "55a82b59",
   "metadata": {},
   "source": [
    "# Variables"
   ]
  },
  {
   "cell_type": "code",
   "execution_count": 1,
   "id": "eebe0b55",
   "metadata": {},
   "outputs": [
    {
     "name": "stdout",
     "output_type": "stream",
     "text": [
      "Enter the value of x: 5\n",
      "Enter the value of y: 10\n",
      "The Value of x after swapping: 10\n",
      "The Value of y after swapping: 5\n"
     ]
    }
   ],
   "source": [
    "# 1.Write a program that swaps the values of two variables.\n",
    "\n",
    "x=input('Enter the value of x: ')\n",
    "y=input('Enter the value of y: ')\n",
    "\n",
    "temp=x\n",
    "x=y\n",
    "y=temp\n",
    "\n",
    "print('The Value of x after swapping: {}'.format(x))\n",
    "print('The Value of y after swapping: {}'.format(y))\n",
    "\n"
   ]
  },
  {
   "cell_type": "code",
   "execution_count": 3,
   "id": "98fd90de",
   "metadata": {},
   "outputs": [
    {
     "name": "stdout",
     "output_type": "stream",
     "text": [
      "The area is  60\n"
     ]
    }
   ],
   "source": [
    "#2. 2. Write a program that calculates the area of a rectangle given its length and width.\n",
    "\n",
    "length=10\n",
    "width=6\n",
    "area=width*length\n",
    "print('The area is ',area)"
   ]
  },
  {
   "cell_type": "code",
   "execution_count": 5,
   "id": "5da208bf",
   "metadata": {},
   "outputs": [
    {
     "name": "stdout",
     "output_type": "stream",
     "text": [
      "Enter the temperature in fahrenheit degree: 97.5\n",
      "The converted temperature in celcius degree is  36.388888888888886\n"
     ]
    }
   ],
   "source": [
    "#3. Write a program that converts temperature from Fahrenheit to Celsius.\n",
    "\n",
    "fahrenheit_1=float(input('Enter the temperature in fahrenheit degree: '))\n",
    "celcius_1=(fahrenheit_1-32)*5/9\n",
    "print('The converted temperature in celcius degree is ',celcius_1)"
   ]
  },
  {
   "cell_type": "code",
   "execution_count": 7,
   "id": "19d79969",
   "metadata": {},
   "outputs": [
    {
     "name": "stdout",
     "output_type": "stream",
     "text": [
      "Enter the radius of the sphere: 6.0\n",
      "The volume of the sphere is:  904.7786842338603\n"
     ]
    }
   ],
   "source": [
    "#4. Write a program that calculates the volume of a sphere given its radius.\n",
    "\n",
    "pi=3.1415926535897931\n",
    "r=float(input('Enter the radius of the sphere: '))\n",
    "v=4.0/3.0 * pi * r**3\n",
    "\n",
    "print('The volume of the sphere is: ', v)"
   ]
  },
  {
   "cell_type": "code",
   "execution_count": 9,
   "id": "d9c6b8fb",
   "metadata": {},
   "outputs": [
    {
     "name": "stdout",
     "output_type": "stream",
     "text": [
      "Enter the first number: 10\n",
      "Enter the Second number: 20\n",
      "Enter the third number: 30\n",
      "The average of three number is  20.0\n"
     ]
    }
   ],
   "source": [
    "#5. Write a program that finds the average of three numbers.\n",
    "\n",
    "num_1=int(input('Enter the first number: '))\n",
    "num_2=int(input('Enter the Second number: '))\n",
    "num_3=int(input('Enter the third number: '))\n",
    "add=num_1+num_2+num_3\n",
    "avg=add/3\n",
    "print('The average of three number is ',avg)"
   ]
  },
  {
   "cell_type": "markdown",
   "id": "7ea52097",
   "metadata": {},
   "source": [
    "# If-elif-else"
   ]
  },
  {
   "cell_type": "code",
   "execution_count": 12,
   "id": "b40e60ac",
   "metadata": {},
   "outputs": [
    {
     "name": "stdout",
     "output_type": "stream",
     "text": [
      "Enter a number: 10\n",
      "Even\n"
     ]
    }
   ],
   "source": [
    "#6. Write a program that determines if a number is even or odd.\n",
    "\n",
    "num_1=int(input('Enter a number: '))\n",
    "if num_1%2==0:\n",
    "    print('Even')\n",
    "else:\n",
    "        print('Odd')"
   ]
  },
  {
   "cell_type": "code",
   "execution_count": 14,
   "id": "694d7fe9",
   "metadata": {},
   "outputs": [
    {
     "name": "stdout",
     "output_type": "stream",
     "text": [
      "Enter the first number: 10\n",
      "Enter the second number: 20\n",
      "Enter the third number: 30\n",
      "Z is Maximum Number \n"
     ]
    }
   ],
   "source": [
    "#7. Write a program that finds the maximum of three number\n",
    "\n",
    "x=int(input('Enter the first number: '))\n",
    "y=int(input('Enter the second number: '))\n",
    "z=int(input('Enter the third number: '))\n",
    "\n",
    "if x>y and x>z:\n",
    "    print('X is Maximum Number ')\n",
    "elif y>x and y>z:\n",
    "        print('Y is Maximum Number ')\n",
    "else:\n",
    "    print('Z is Maximum Number ')"
   ]
  },
  {
   "cell_type": "code",
   "execution_count": 17,
   "id": "28ea822b",
   "metadata": {},
   "outputs": [
    {
     "name": "stdout",
     "output_type": "stream",
     "text": [
      "Enter any year: 2017\n",
      "2017 is not leap year\n"
     ]
    }
   ],
   "source": [
    "#8. Write a program that determines if a year is a leap year or not.\n",
    "\n",
    "year=int(input('Enter any year: '))\n",
    "\n",
    "if (year % 4==0) and (year % 100!=0) or (year % 400==0):\n",
    "    print('{} is a leap year'.format(year))\n",
    "else :\n",
    "    print('{} is not leap year'.format(year))\n",
    "\n"
   ]
  },
  {
   "cell_type": "code",
   "execution_count": 20,
   "id": "4c751117",
   "metadata": {},
   "outputs": [
    {
     "name": "stdout",
     "output_type": "stream",
     "text": [
      "Enter any number: 0\n",
      "It is zero \n"
     ]
    }
   ],
   "source": [
    "#9. Write a program that determines if a number is positive, negative, or zero.\n",
    "\n",
    "num=int(input('Enter any number: '))\n",
    "\n",
    "if num > 0:\n",
    "    print('It is a positive number ')\n",
    "elif num == 0:\n",
    "    print('It is zero ')\n",
    "else:\n",
    "    print('It is a negative number')\n",
    "\n",
    "    "
   ]
  },
  {
   "cell_type": "code",
   "execution_count": 23,
   "id": "e7b3ddbe",
   "metadata": {},
   "outputs": [
    {
     "name": "stdout",
     "output_type": "stream",
     "text": [
      "Enter any grade marks: 60\n",
      "B Grade\n"
     ]
    }
   ],
   "source": [
    "#10. Write a program that calculates the grade based on a given percentage.\n",
    "\n",
    "marks=int(input('Enter any grade marks: '))\n",
    "\n",
    "if marks>=90 and marks<=100:\n",
    "    print('A+ Grade')\n",
    "elif marks>=80 and marks<=89:\n",
    "    print('A Grade')\n",
    "elif marks>=70 and marks<=79:\n",
    "    print('A- Grade')\n",
    "elif marks>=60 and marks<=69:\n",
    "    print('B Grade')\n",
    "elif marks>=50 and marks<=59:\n",
    "    print('C Grade')\n",
    "elif marks>=40 and marks<=49:\n",
    "    print('D Grade')\n",
    "elif marks>=33 and marks<=39:\n",
    "    print('E Grade')\n",
    "else:\n",
    "    print('F Grade')"
   ]
  },
  {
   "cell_type": "markdown",
   "id": "48e006d4",
   "metadata": {},
   "source": [
    "# For Loop"
   ]
  },
  {
   "cell_type": "code",
   "execution_count": 29,
   "id": "8050cb7d",
   "metadata": {},
   "outputs": [
    {
     "name": "stdout",
     "output_type": "stream",
     "text": [
      "Enter any number : 10\n",
      "\n",
      "Natural numbers from 1 to 10\n",
      "1 2 3 4 5 6 7 8 9 10 "
     ]
    }
   ],
   "source": [
    "#11. Write a program that prints the first `n` natural numbers.\n",
    "# Take number from user\n",
    "num = int(input(\"Enter any number : \"))\n",
    "\n",
    "print(\"\\nNatural numbers from 1 to\", num)\n",
    "\n",
    "for i in range(1, num+1):\n",
    "    print(i, end=\" \")"
   ]
  },
  {
   "cell_type": "code",
   "execution_count": 37,
   "id": "dd65e09e",
   "metadata": {},
   "outputs": [
    {
     "name": "stdout",
     "output_type": "stream",
     "text": [
      "Enter any number : 5\n",
      "120\n"
     ]
    }
   ],
   "source": [
    "#12. Write a program that calculates the factorial of a number.\n",
    "\n",
    "num_1 = int(input(\"Enter any number : \"))\n",
    "fact=1\n",
    "\n",
    "for i in range(1,num_1+1):\n",
    "      fact=fact*i\n",
    "print(fact)\n",
    "    "
   ]
  },
  {
   "cell_type": "code",
   "execution_count": 38,
   "id": "995d2610",
   "metadata": {},
   "outputs": [
    {
     "name": "stdout",
     "output_type": "stream",
     "text": [
      "Enter the limit - 5\n",
      "Fibonacci Series: \n",
      "0 1 1 2 3 "
     ]
    }
   ],
   "source": [
    "#13. Write a program that generates a Fibonacci sequence of length `n`.\n",
    "\n",
    "limit = int(input('Enter the limit - '))\n",
    "\n",
    "num1 = 0\n",
    "\n",
    "num2 = 1\n",
    "\n",
    "print('Fibonacci Series: ')\n",
    "\n",
    "for z in range(0,limit):\n",
    "\n",
    "    if(z<=1):\n",
    "\n",
    "        num3 = z\n",
    "\n",
    "    else:\n",
    "\n",
    "        num3 = num1+num2\n",
    "\n",
    "        num1 = num2\n",
    "\n",
    "        num2 = num3\n",
    "\n",
    "    print(num3,end=' ')"
   ]
  },
  {
   "cell_type": "code",
   "execution_count": 53,
   "id": "d0c4111b",
   "metadata": {},
   "outputs": [],
   "source": [
    "#14. Write a program that checks if a given number is prime or not.\n",
    "\n",
    "n=5\n",
    "\n",
    "# Check if the number is greater than 1\n",
    "\n",
    "if n > 1:\n",
    "    for i in range(2, int(n/2)+1):\n",
    "        if (n % i) == 0:\n",
    "        print(num, \"is not a prime number\")\n",
    "    break\n",
    "    else:\n",
    "    print(n, \"is a prime number\")\n",
    "# If the number is less than 1, its also not a prime number.\n",
    "    else:\n",
    "    print(n, \"is not a prime number\")\n",
    "        "
   ]
  },
  {
   "cell_type": "code",
   "execution_count": 4,
   "id": "91012d6a",
   "metadata": {},
   "outputs": [
    {
     "name": "stdout",
     "output_type": "stream",
     "text": [
      "Enter the number: 10\n",
      "Multiplication Table of 10\n",
      "10 X 1 = 10\n",
      "10 X 2 = 20\n",
      "10 X 3 = 30\n",
      "10 X 4 = 40\n",
      "10 X 5 = 50\n",
      "10 X 6 = 60\n",
      "10 X 7 = 70\n",
      "10 X 8 = 80\n",
      "10 X 9 = 90\n",
      "10 X 10 = 100\n"
     ]
    }
   ],
   "source": [
    "#15. Write a program that prints the multiplication table of a given number.\n",
    "\n",
    "num = int(input(\"Enter the number: \"))\n",
    "num1=10\n",
    "\n",
    "print(\"Multiplication Table of\", num)\n",
    "for i in range(1, num1+1):\n",
    "   print(num,\"X\",i,\"=\",num * i)\n"
   ]
  },
  {
   "cell_type": "markdown",
   "id": "02b3e55c",
   "metadata": {},
   "source": [
    "# While Loop"
   ]
  },
  {
   "cell_type": "code",
   "execution_count": 7,
   "id": "c03b11c6",
   "metadata": {},
   "outputs": [
    {
     "name": "stdout",
     "output_type": "stream",
     "text": [
      "Enter a number: 20\n",
      "2\n",
      "4\n",
      "6\n",
      "8\n",
      "10\n",
      "12\n",
      "14\n",
      "16\n",
      "18\n",
      "20\n",
      "Sum of all the even numbers is 110\n"
     ]
    }
   ],
   "source": [
    "#16. Write a program that finds the sum of all even numbers between 1 and `n`.\n",
    "\n",
    "n = int(input('Enter a number: '))\n",
    "sum = 0\n",
    "i =1 \n",
    "while i <= n:\n",
    "    if i % 2 == 0:\n",
    "        print(i)\n",
    "        sum+=i\n",
    "    i+=1\n",
    "print(f\"Sum of all the even numbers is {sum}\")"
   ]
  },
  {
   "cell_type": "code",
   "execution_count": 8,
   "id": "91b9c47a",
   "metadata": {},
   "outputs": [
    {
     "name": "stdout",
     "output_type": "stream",
     "text": [
      "Enter number: 4321\n",
      "Reverse of the number: 1234\n"
     ]
    }
   ],
   "source": [
    "#17. Write a program that reverses a given number.\n",
    "\n",
    "n=int(input(\"Enter number: \"))\n",
    "#temp=n\n",
    "rev=0\n",
    "while(n>0):\n",
    "    dig=n%10\n",
    "    rev=rev*10+dig\n",
    "    n=n//10\n",
    "print(\"Reverse of the number:\",rev)\n"
   ]
  },
  {
   "cell_type": "code",
   "execution_count": 14,
   "id": "2f2d048d",
   "metadata": {},
   "outputs": [
    {
     "name": "stdout",
     "output_type": "stream",
     "text": [
      "True\n"
     ]
    }
   ],
   "source": [
    "#18. Write a program that checks if a given string is a palindrome.\n",
    "\n",
    "a_string = 'Was it a car or a cat I saw'\n",
    "\n",
    "def palindrome(a_string):\n",
    "    a_string = a_string.lower().replace(' ', '')\n",
    "    first, last = 0, len(a_string) - 1\n",
    "\n",
    "    while(first < last):\n",
    "        if(a_string[first] == a_string[last]):\n",
    "            first += 1\n",
    "            last -= 1\n",
    "        else:\n",
    "            return False\n",
    "\n",
    "    return True\n",
    "\n",
    "print(palindrome(a_string))\n",
    "\n",
    "# Returns: True\n"
   ]
  },
  {
   "cell_type": "code",
   "execution_count": null,
   "id": "108e19ad",
   "metadata": {},
   "outputs": [],
   "source": [
    "#19. Write a program that generates a random number and allows the user to guess it.\n",
    "\n",
    "\n",
    "import random\n",
    "\n",
    "num = random.randint(1, 10)\n",
    "guess = None\n",
    "\n",
    "while guess != num:\n",
    "    guess = input(\"guess a number between 1 and 10: \")\n",
    "    guess = int(guess)\n",
    "\n",
    "    if guess == num:\n",
    "        print(\"congratulations! you won!\")\n",
    "        break\n",
    "    else:\n",
    "        print(\"nope, sorry. try again!\")\n"
   ]
  },
  {
   "cell_type": "code",
   "execution_count": null,
   "id": "4690b445",
   "metadata": {},
   "outputs": [],
   "source": [
    "#20. Write a program that finds the greatest common divisor (GCD) of two numbers.\n",
    "\n",
    "num1 = 36\n",
    "num2 = 60\n",
    "a = num1\n",
    "b = num2\n",
    "\n",
    "while num1 != num2:\n",
    "    if num1 > num2:\n",
    "        num1 -= num2\n",
    "    else:\n",
    "        num2 -= num1\n",
    "\n",
    "print(\"GCD of\", a, \"and\", b, \"is\", num1)"
   ]
  },
  {
   "cell_type": "code",
   "execution_count": null,
   "id": "f0498c24",
   "metadata": {},
   "outputs": [],
   "source": []
  }
 ],
 "metadata": {
  "kernelspec": {
   "display_name": "Python 3 (ipykernel)",
   "language": "python",
   "name": "python3"
  },
  "language_info": {
   "codemirror_mode": {
    "name": "ipython",
    "version": 3
   },
   "file_extension": ".py",
   "mimetype": "text/x-python",
   "name": "python",
   "nbconvert_exporter": "python",
   "pygments_lexer": "ipython3",
   "version": "3.9.7"
  }
 },
 "nbformat": 4,
 "nbformat_minor": 5
}
